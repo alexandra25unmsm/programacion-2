{
  "nbformat": 4,
  "nbformat_minor": 0,
  "metadata": {
    "colab": {
      "name": "Copia de Prueba_1.ipynb",
      "provenance": [],
      "collapsed_sections": [],
      "include_colab_link": true
    },
    "kernelspec": {
      "name": "python3",
      "display_name": "Python 3"
    }
  },
  "cells": [
    {
      "cell_type": "markdown",
      "metadata": {
        "id": "view-in-github",
        "colab_type": "text"
      },
      "source": [
        "<a href=\"https://colab.research.google.com/github/alexandra25unmsm/programacion-2/blob/master/practica1.ipynb\" target=\"_parent\"><img src=\"https://colab.research.google.com/assets/colab-badge.svg\" alt=\"Open In Colab\"/></a>"
      ]
    },
    {
      "cell_type": "markdown",
      "metadata": {
        "id": "XVj8RvlXW-FT",
        "colab_type": "text"
      },
      "source": [
        "## Evaluación 1"
      ]
    },
    {
      "cell_type": "markdown",
      "metadata": {
        "id": "wNxBYdZrW3GZ",
        "colab_type": "text"
      },
      "source": [
        "**Ejercicio 1:**\n",
        "\n",
        "%%latex\n",
        "\\begin{eqnarray}\n",
        "\\frac{2^3+10/5}{15}\n",
        "\\end{eqnarray}\n"
      ]
    },
    {
      "cell_type": "code",
      "metadata": {
        "id": "vFm7OtWRUjgC",
        "colab_type": "code",
        "colab": {}
      },
      "source": [
        ""
      ],
      "execution_count": 0,
      "outputs": []
    },
    {
      "cell_type": "markdown",
      "metadata": {
        "id": "tChFbTDTXDRs",
        "colab_type": "text"
      },
      "source": [
        "**Ejercicio 2:**\n",
        "\n",
        "Revertir la palabra 'Hello world'."
      ]
    },
    {
      "cell_type": "code",
      "metadata": {
        "id": "BVJ64Dy7VAo5",
        "colab_type": "code",
        "colab": {}
      },
      "source": [
        "p=('hello word')"
      ],
      "execution_count": 0,
      "outputs": []
    },
    {
      "cell_type": "code",
      "metadata": {
        "id": "5L1l0HaEafq5",
        "colab_type": "code",
        "outputId": "d476ef3b-42f5-4660-cbe3-c81d9874205a",
        "colab": {
          "base_uri": "https://localhost:8080/",
          "height": 163
        }
      },
      "source": [
        ""
      ],
      "execution_count": 0,
      "outputs": [
        {
          "output_type": "error",
          "ename": "AttributeError",
          "evalue": "ignored",
          "traceback": [
            "\u001b[0;31m---------------------------------------------------------------------------\u001b[0m",
            "\u001b[0;31mAttributeError\u001b[0m                            Traceback (most recent call last)",
            "\u001b[0;32m<ipython-input-67-5c9fe68378fc>\u001b[0m in \u001b[0;36m<module>\u001b[0;34m()\u001b[0m\n\u001b[0;32m----> 1\u001b[0;31m \u001b[0mp\u001b[0m\u001b[0;34m.\u001b[0m\u001b[0mreverse\u001b[0m\u001b[0;34m(\u001b[0m\u001b[0;34m'hello word'\u001b[0m\u001b[0;34m)\u001b[0m\u001b[0;34m\u001b[0m\u001b[0;34m\u001b[0m\u001b[0m\n\u001b[0m",
            "\u001b[0;31mAttributeError\u001b[0m: 'str' object has no attribute 'reverse'"
          ]
        }
      ]
    },
    {
      "cell_type": "markdown",
      "metadata": {
        "id": "pJQ3T7giXK6n",
        "colab_type": "text"
      },
      "source": [
        "**Ejercicio 3:**\n",
        "\n",
        "Cree la siguiente lista [0,0,0] de 2 formas distintas."
      ]
    },
    {
      "cell_type": "markdown",
      "metadata": {
        "id": "yUhIGt1MXPJ9",
        "colab_type": "text"
      },
      "source": [
        "**Ejercicio 4:**\n",
        "\n",
        "Cambie la palabra 'hello' por 'goodbye'"
      ]
    },
    {
      "cell_type": "code",
      "metadata": {
        "id": "5KOufWplXKbL",
        "colab_type": "code",
        "colab": {}
      },
      "source": [
        "lista = [1, 2, [3, 4, ('hello')]]"
      ],
      "execution_count": 0,
      "outputs": []
    },
    {
      "cell_type": "code",
      "metadata": {
        "id": "7G0O_LFjWMkx",
        "colab_type": "code",
        "outputId": "bf1ebf16-71fd-4cf4-9879-199996dbb8ca",
        "colab": {
          "base_uri": "https://localhost:8080/",
          "height": 34
        }
      },
      "source": [
        "lista"
      ],
      "execution_count": 0,
      "outputs": [
        {
          "output_type": "execute_result",
          "data": {
            "text/plain": [
              "[1, 2, [3, 4, 'hello']]"
            ]
          },
          "metadata": {
            "tags": []
          },
          "execution_count": 9
        }
      ]
    },
    {
      "cell_type": "code",
      "metadata": {
        "id": "rPxRyBOUWMfD",
        "colab_type": "code",
        "colab": {}
      },
      "source": [
        ""
      ],
      "execution_count": 0,
      "outputs": []
    },
    {
      "cell_type": "code",
      "metadata": {
        "id": "dXVqZGSFVRQJ",
        "colab_type": "code",
        "colab": {}
      },
      "source": [
        "lista [2][2]='goodbye'"
      ],
      "execution_count": 0,
      "outputs": []
    },
    {
      "cell_type": "code",
      "metadata": {
        "id": "7L1Zn7itVrwi",
        "colab_type": "code",
        "outputId": "53d5b0da-27b9-4d65-ae27-cd8cc13e8eab",
        "colab": {
          "base_uri": "https://localhost:8080/",
          "height": 34
        }
      },
      "source": [
        "lista"
      ],
      "execution_count": 0,
      "outputs": [
        {
          "output_type": "execute_result",
          "data": {
            "text/plain": [
              "[1, 2, [3, 4, 'goodbye']]"
            ]
          },
          "metadata": {
            "tags": []
          },
          "execution_count": 12
        }
      ]
    },
    {
      "cell_type": "code",
      "metadata": {
        "id": "3f4tJsT2WT6B",
        "colab_type": "code",
        "colab": {}
      },
      "source": [
        "lista [2][2]='goodbye'"
      ],
      "execution_count": 0,
      "outputs": []
    },
    {
      "cell_type": "markdown",
      "metadata": {
        "id": "G5gvlXj7XkB4",
        "colab_type": "text"
      },
      "source": [
        "**Ejercicio 5:**\n",
        "\n",
        "Obtenga la palabra 'hello' de los siguiente ejemplos"
      ]
    },
    {
      "cell_type": "code",
      "metadata": {
        "id": "7LZqtfpzXJ3e",
        "colab_type": "code",
        "colab": {}
      },
      "source": [
        "d1 = {'simple_key':'hello'}"
      ],
      "execution_count": 0,
      "outputs": []
    },
    {
      "cell_type": "code",
      "metadata": {
        "id": "gPUcebPQWu3x",
        "colab_type": "code",
        "outputId": "942f7487-baf7-4f39-d38b-35e50768515c",
        "colab": {
          "base_uri": "https://localhost:8080/",
          "height": 34
        }
      },
      "source": [
        "d1 ['simple_key']"
      ],
      "execution_count": 0,
      "outputs": [
        {
          "output_type": "execute_result",
          "data": {
            "text/plain": [
              "'hello'"
            ]
          },
          "metadata": {
            "tags": []
          },
          "execution_count": 27
        }
      ]
    },
    {
      "cell_type": "code",
      "metadata": {
        "id": "fD5u3J8gY2Tx",
        "colab_type": "code",
        "outputId": "244f468d-8cdd-4eec-ac5b-5d89a1dcad8a",
        "colab": {
          "base_uri": "https://localhost:8080/",
          "height": 34
        }
      },
      "source": [
        "d1"
      ],
      "execution_count": 0,
      "outputs": [
        {
          "output_type": "execute_result",
          "data": {
            "text/plain": [
              "{'simple_key': 'hello'}"
            ]
          },
          "metadata": {
            "tags": []
          },
          "execution_count": 40
        }
      ]
    },
    {
      "cell_type": "code",
      "metadata": {
        "id": "0e7JZVDHXtup",
        "colab_type": "code",
        "colab": {}
      },
      "source": [
        "d2 = {'k1':{'k2':'hello'}}"
      ],
      "execution_count": 0,
      "outputs": []
    },
    {
      "cell_type": "code",
      "metadata": {
        "id": "Xc8Rwv2rYP4j",
        "colab_type": "code",
        "outputId": "7c4a43f4-04f7-4941-93d5-6110ddcdfda8",
        "colab": {
          "base_uri": "https://localhost:8080/",
          "height": 34
        }
      },
      "source": [
        "d2 ['k1']['k2']"
      ],
      "execution_count": 0,
      "outputs": [
        {
          "output_type": "execute_result",
          "data": {
            "text/plain": [
              "'hello'"
            ]
          },
          "metadata": {
            "tags": []
          },
          "execution_count": 44
        }
      ]
    },
    {
      "cell_type": "code",
      "metadata": {
        "id": "iIRA-K9kZFxw",
        "colab_type": "code",
        "colab": {}
      },
      "source": [
        "estacion = {\n",
        "    \"cate\": \"CO\",\n",
        "    \"cod\": \"105062\",\n",
        "    \"cod_old\": \"000349\",\n",
        "    \"estado\": \"DIFERIDO\",\n",
        "    \"ico\": \"M\",\n",
        "    \"lat\": -5.67175,\n",
        "    \"lon\": -78.89767,\n",
        "    \"nom\": \"hello\"\n",
        "}"
      ],
      "execution_count": 0,
      "outputs": []
    },
    {
      "cell_type": "code",
      "metadata": {
        "id": "MWZRNbA5YqQi",
        "colab_type": "code",
        "outputId": "b537eaca-949d-4ebf-a79e-842891f23ce8",
        "colab": {
          "base_uri": "https://localhost:8080/",
          "height": 34
        }
      },
      "source": [
        "estacion [\"nom\"]"
      ],
      "execution_count": 0,
      "outputs": [
        {
          "output_type": "execute_result",
          "data": {
            "text/plain": [
              "'hello'"
            ]
          },
          "metadata": {
            "tags": []
          },
          "execution_count": 43
        }
      ]
    },
    {
      "cell_type": "markdown",
      "metadata": {
        "id": "VWq1nlZTXzDJ",
        "colab_type": "text"
      },
      "source": [
        "**Ejercicio 6:**\n",
        "\n",
        "¿Cuantos números por encima de 20 existen en la siguiente lista. Resuelvalo usando for."
      ]
    },
    {
      "cell_type": "code",
      "metadata": {
        "id": "HrFRXOsyXx-y",
        "colab_type": "code",
        "colab": {}
      },
      "source": [
        "lista = [10, 40, 60, 70, 80]"
      ],
      "execution_count": 0,
      "outputs": []
    },
    {
      "cell_type": "code",
      "metadata": {
        "id": "N3JhqoyQZzuj",
        "colab_type": "code",
        "outputId": "685946b2-ebef-4cb8-ba72-52e50ce38c29",
        "colab": {
          "base_uri": "https://localhost:8080/",
          "height": 129
        }
      },
      "source": [
        "for lista in range(>20):\n",
        "    print('es mayor ')\n",
        "    if 50 == 'es menor ':\n",
        "        break\n",
        "    print(n)"
      ],
      "execution_count": 0,
      "outputs": [
        {
          "output_type": "error",
          "ename": "SyntaxError",
          "evalue": "ignored",
          "traceback": [
            "\u001b[0;36m  File \u001b[0;32m\"<ipython-input-54-6d00f7230b1c>\"\u001b[0;36m, line \u001b[0;32m1\u001b[0m\n\u001b[0;31m    for lista in range(>20):\u001b[0m\n\u001b[0m                       ^\u001b[0m\n\u001b[0;31mSyntaxError\u001b[0m\u001b[0;31m:\u001b[0m invalid syntax\n"
          ]
        }
      ]
    },
    {
      "cell_type": "markdown",
      "metadata": {
        "id": "bJADk5f6YAZ7",
        "colab_type": "text"
      },
      "source": [
        "**Ejercicio 7:**\n",
        "\n",
        "Crear un programa que mencione si un número es positivo, negativo o cero."
      ]
    },
    {
      "cell_type": "code",
      "metadata": {
        "id": "NuVNDFnRX_97",
        "colab_type": "code",
        "colab": {}
      },
      "source": [
        "num = [0, -2, 4, 5, 6]"
      ],
      "execution_count": 0,
      "outputs": []
    },
    {
      "cell_type": "code",
      "metadata": {
        "id": "WpC8BqylbSp5",
        "colab_type": "code",
        "outputId": "bd38685b-b0fc-42c1-e3a4-a9ac77898c82",
        "colab": {
          "base_uri": "https://localhost:8080/",
          "height": 187
        }
      },
      "source": [
        "for n in num :\n",
        "  print(n)\n",
        "  if n >=0:\n",
        "    if n ==0:\n",
        "        print(\"es Cero\")\n",
        "    else: print(\"Es un número positivo\")\n",
        "  else: print(\"Es un número negativo\")"
      ],
      "execution_count": 0,
      "outputs": [
        {
          "output_type": "stream",
          "text": [
            "0\n",
            "es Cero\n",
            "-2\n",
            "Es un número negativo\n",
            "4\n",
            "Es un número positivo\n",
            "5\n",
            "Es un número positivo\n",
            "6\n",
            "Es un número positivo\n"
          ],
          "name": "stdout"
        }
      ]
    },
    {
      "cell_type": "markdown",
      "metadata": {
        "id": "q7pw8cS8YNzR",
        "colab_type": "text"
      },
      "source": [
        "**Ejercicio 8:**\n",
        "\n",
        "Crear un programa al que se le ingrese grados Kelvin y devuelva Farenheit y Celcius."
      ]
    }
  ]
}